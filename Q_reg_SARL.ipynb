{
 "cells": [
  {
   "cell_type": "markdown",
   "metadata": {
    "pycharm": {
     "name": "#%% md\n"
    }
   },
   "source": [
    "# Environment"
   ]
  },
  {
   "cell_type": "code",
   "execution_count": 1,
   "metadata": {},
   "outputs": [],
   "source": [
    "# ! pip3 install torch\n",
    "# ! pip3 install torchvision\n",
    "# ! pip3 install numpy\n",
    "# ! pip3 install matplotlib\n",
    "# ! pip3 install einops"
   ]
  },
  {
   "cell_type": "code",
   "execution_count": 2,
   "metadata": {
    "collapsed": false,
    "jupyter": {
     "outputs_hidden": false
    },
    "pycharm": {
     "name": "#%%\n"
    }
   },
   "outputs": [],
   "source": [
    "import numpy as np\n",
    "import matplotlib.pyplot as plt\n",
    "# from IPython.core.display_functions import display\n",
    "from PIL import Image, ImageOps\n",
    "from torchvision.transforms import Compose, Resize, ToTensor\n",
    "# import cv2 as cv\n",
    "from collections import deque\n",
    "\n",
    "import torch.optim as optim\n",
    "import torch\n",
    "import torch.nn.functional as F\n",
    "from torch import nn\n",
    "from torch import Tensor\n",
    "from PIL import Image\n",
    "from torchvision.transforms import Compose, Resize, ToTensor\n",
    "from einops import rearrange, reduce, repeat\n",
    "from einops.layers.torch import Rearrange, Reduce\n",
    "import os\n",
    "# from einops import rearrange, reduce, repeat\n",
    "# from einops.layers.torch import Rearrange, Reduce\n",
    "# from torchsummary import summary\n",
    "# from torch.distributions import Categorical"
   ]
  },
  {
   "cell_type": "code",
   "execution_count": 3,
   "metadata": {},
   "outputs": [],
   "source": [
    "# ! pip install torchvision"
   ]
  },
  {
   "cell_type": "code",
   "execution_count": 4,
   "metadata": {},
   "outputs": [],
   "source": [
    "def generate_cropped_im(im, cropped_dims):\n",
    "    h_shift = 10\n",
    "    s_shift = 10\n",
    "    v_shift = 50\n",
    "    # generate random crop shifts\n",
    "    crop_attributes = {}\n",
    "#     cropped_shift = [np.random.randint(0,im.size[0]-cropped_dims[0]),np.random.randint(0,im.size[1]-cropped_dims[1])]\n",
    "    cropped_shift = [37,37]\n",
    "    crop_coords = (cropped_shift[0], cropped_shift[1], cropped_shift[0]+cropped_dims[0], cropped_shift[1]+cropped_dims[1])\n",
    "    cropped_im = im.crop(crop_coords)\n",
    "    cropped_im = cropped_im.convert('HSV')\n",
    "    h, s, v = cropped_im.split()\n",
    "    h = h.point(lambda p: p + h_shift)\n",
    "    s = s.point(lambda p: p + s_shift)\n",
    "    v = v.point(lambda p: p + v_shift)\n",
    "    cropped_im = Image.merge('HSV', (h, s, v))\n",
    "    cropped_im = cropped_im.convert('RGB')\n",
    "    cropped_im_shape = cropped_im.size\n",
    "    crop_attributes['crop_coords'] = crop_coords\n",
    "    crop_attributes['cropped_shift'] = cropped_shift\n",
    "    crop_attributes['cropped_im'] = cropped_im\n",
    "    crop_attributes['cropped_im_shape'] = cropped_im_shape\n",
    "    \n",
    "    return crop_attributes"
   ]
  },
  {
   "cell_type": "code",
   "execution_count": 5,
   "metadata": {
    "collapsed": false,
    "jupyter": {
     "outputs_hidden": false
    },
    "pycharm": {
     "name": "#%%\n"
    }
   },
   "outputs": [],
   "source": [
    "class Env:\n",
    "    def __init__(self, fixed_image, moving_image, crop_coords=(37, 37, 74, 74)):\n",
    "        self.crop_coords = crop_coords\n",
    "        self.fixed_image = fixed_image\n",
    "        self.moving_image = moving_image\n",
    "        self.fixed_x = fixed_image.size[0]\n",
    "        self.fixed_y = fixed_image.size[1]\n",
    "        self.crop_x = crop_coords[0]\n",
    "        self.crop_y = crop_coords[1]\n",
    "        self.shift_x = 0\n",
    "        self.shift_y = 0\n",
    "        self.x_limit = fixed_image.size[0] - moving_image.size[0]\n",
    "        self.y_limit = fixed_image.size[1] - moving_image.size[1]\n",
    "        self.env_image = fixed_image.copy()\n",
    "        self.env_image.paste(moving_image, (0,0))\n",
    "        self.action_space = 4\n",
    "\n",
    "#     def reset(self):\n",
    "#         # move image to a random position\n",
    "#         print(self.x_limit)\n",
    "#         self.shift_x = np.random.randint(0, self.x_limit)\n",
    "#         self.shift_y = np.random.randint(0, self.y_limit)\n",
    "#         self.env_image = self.fixed_image.copy()\n",
    "#         self.env_image.paste(self.moving_image, (self.shift_x, self.shift_y))\n",
    "#         return self.env_image\n",
    "    \n",
    "    def reset(self):\n",
    "        crop_attr = generate_cropped_im(self.fixed_image, [37,37])\n",
    "        self.crop_coords = crop_attr['crop_coords']\n",
    "        print(f\"Crop coords: {self.crop_coords}\")\n",
    "        self.moving_image = crop_attr['cropped_im']\n",
    "        self.crop_x = self.crop_coords[0]\n",
    "        self.crop_y = self.crop_coords[1]\n",
    "        self.x_limit = self.fixed_image.size[0] - self.moving_image.size[0]\n",
    "        self.y_limit = self.fixed_image.size[1] - self.moving_image.size[1]\n",
    "        # move image to a random position\n",
    "        print(self.x_limit)\n",
    "        self.shift_x = np.random.randint(0, self.x_limit)\n",
    "        self.shift_y = np.random.randint(0, self.y_limit)\n",
    "        self.env_image = self.fixed_image.copy()\n",
    "        self.env_image.paste(self.moving_image, (self.shift_x, self.shift_y))\n",
    "        \n",
    "        return self.env_image\n",
    "\n",
    "    def check_frame(self, _im):\n",
    "        _im_shape = _im.size\n",
    "        _im_shape = [_im_shape[0] - 1, _im_shape[1] - 1]\n",
    "        # check bottom border\n",
    "        for i in range(_im_shape[0]):\n",
    "            px = _im.getpixel((i, 0))\n",
    "            if not (px[0] == 0 and px[1] == 0 and px[2] == 0):\n",
    "                return False\n",
    "        # check top border\n",
    "        for i in range(_im_shape[0]):\n",
    "            px = _im.getpixel((i, _im_shape[1]))\n",
    "            if not (px[0] == 0 and px[1] == 0 and px[2] == 0):\n",
    "                return False\n",
    "        # check left border\n",
    "        for i in range(_im_shape[1]):\n",
    "            px = _im.getpixel((0, i))\n",
    "            if not (px[0] == 0 and px[1] == 0 and px[2] == 0):\n",
    "                return False\n",
    "        # check right border\n",
    "        for i in range(_im_shape[1]):\n",
    "            px = _im.getpixel((_im_shape[0], i))\n",
    "            if not (px[0] == 0 and px[1] == 0 and px[2] == 0):\n",
    "                return False\n",
    "        return True\n",
    "\n",
    "    def move_image(self, _x, _y):\n",
    "        shift_x = int(self.shift_x + _x)\n",
    "        shift_y = int(self.shift_y + _y)\n",
    "        # shift_x = _x\n",
    "        # shift_y = _y\n",
    "        # check if image can be moved\n",
    "        if shift_x > self.x_limit:\n",
    "            shift_x = self.x_limit\n",
    "            # print('x limit reached')\n",
    "        elif shift_x < 0:\n",
    "            shift_x = 0\n",
    "            # print('x limit reached')\n",
    "        if shift_y > self.y_limit:\n",
    "            shift_y = self.y_limit\n",
    "            # print('y limit reached')\n",
    "        elif shift_y < 0:\n",
    "            shift_y = 0\n",
    "            # print('y limit reached')\n",
    "        if shift_x < 0 or shift_y < 0:\n",
    "            print(f\"Image can't be moved to {shift_x}, {shift_y}\")\n",
    "            return self.env_image, self.get_reward()\n",
    "        self.shift_x = shift_x\n",
    "        self.shift_y = shift_y\n",
    "        env_copy = self.fixed_image.copy()\n",
    "        env_copy.paste(self.moving_image, (shift_x, shift_y))\n",
    "        self.env_image = env_copy\n",
    "        reward = self.get_reward()\n",
    "        # print(f\"shift x {shift_x}, shift y {shift_y}, moved x {_x}, moved y {_y} moved x {self.crop_x}, moved y {self.crop_y}, reward {reward}\")\n",
    "        return env_copy, reward\n",
    "\n",
    "    def get_reward(self):\n",
    "        distance = np.sqrt((self.shift_x - self.crop_x)**2 + (self.shift_y - self.crop_y)**2)\n",
    "        return -distance\n",
    "\n",
    "    def get_target(self, shift_x, shift_y):\n",
    "        _x = self.crop_x - shift_x\n",
    "        _y = self.crop_y - shift_y\n",
    "        target_x = 0.5+(_x/(2*self.x_limit))\n",
    "        target_y = 0.5+(_y/(2*self.y_limit))\n",
    "        return target_x, target_y\n",
    "\n",
    "    def get_pred_target(self, pred):\n",
    "        shift_x = (pred[0]*2-1) * self.x_limit\n",
    "        shift_y = (pred[1]*2-1) * self.y_limit\n",
    "        _x = self.crop_x - shift_x\n",
    "        _y = self.crop_y - shift_y\n",
    "        pred_target_x = 0.5+(_x/(2*self.x_limit))\n",
    "        pred_target_y = 0.5+(_y/(2*self.y_limit))\n",
    "        return pred_target_x, pred_target_y\n",
    "        # return _x, _y\n",
    "\n",
    "    def move_image_old(self, x, y):\n",
    "        # move image using pil\n",
    "        new_im = self.moving_image.transform(self.moving_image.size, Image.AFFINE, (1, 0, x, 0, 1, y))\n",
    "        can_move = self.check_frame(new_im)\n",
    "        if can_move:\n",
    "            self.moving_image = new_im\n",
    "            return new_im\n",
    "        else:\n",
    "            return self.moving_image\n",
    "\n",
    "    def step(self, action, amount=1):\n",
    "        \"\"\"\n",
    "        action: 0 = left, 1 = right, 2 = up, 3 = down\n",
    "        \"\"\"\n",
    "        if action == 0:\n",
    "            new_im, reward = self.move_image(amount, 0)\n",
    "        elif action == 1:\n",
    "            new_im, reward = self.move_image(0, amount)\n",
    "        elif action == 2:\n",
    "            new_im, reward = self.move_image(-amount, 0)\n",
    "        elif action == 3:\n",
    "            new_im, reward = self.move_image(0, -amount)\n",
    "        else:\n",
    "            raise ValueError(f\"Action {action} is not valid\")\n",
    "        if reward >= -1:\n",
    "            reward = 100\n",
    "            return new_im, reward, True\n",
    "        else:\n",
    "            return new_im, reward, False"
   ]
  },
  {
   "cell_type": "code",
   "execution_count": 6,
   "metadata": {},
   "outputs": [],
   "source": [
    "def preprocess_data(path, display=True):\n",
    "    h_shift = 0\n",
    "    s_shift = 0\n",
    "    v_shift = 0\n",
    "    envs = []\n",
    "    for i, filename in enumerate(os.listdir(path)):\n",
    "        if filename.endswith(\".jpg\"):\n",
    "            if i == 100:\n",
    "                break\n",
    "            im = Image.open('/'.join([path, filename]))\n",
    "            im_shape = im.size\n",
    "            if im_shape[0] >= 112 and im_shape[1] >= 112:\n",
    "                im_scale_x = im_shape[0]/112\n",
    "                im_scale_y = im_shape[1]/112\n",
    "\n",
    "                scale = 1/2\n",
    "                im = im.resize((int(im_shape[0]/im_scale_x),int(im_shape[1]/im_scale_y)),Image.ANTIALIAS)\n",
    "                im_shape = im.size\n",
    "                im = im.crop((0, 0, 112, 112))\n",
    "                im_shape = im.size\n",
    "                cropped_dims = [37, 37]\n",
    "                crop_attr = generate_cropped_im(im, cropped_dims)\n",
    "                cropped_im = crop_attr['cropped_im']\n",
    "                # change cropped image hue\n",
    "                cropped_im = cropped_im.convert('HSV')\n",
    "                cropped_im_shape = crop_attr['cropped_im_shape']\n",
    "                print(f'im_shape: {im_shape}, cropped_im_shape: {cropped_im_shape}')\n",
    "                crop_coords = crop_attr['crop_coords']\n",
    "\n",
    "                # red_dot = Image.new('RGB', (10, 10), color = 'red')\n",
    "                # green_dot = Image.new('RGB', (10, 10), color = 'green')\n",
    "                env_im = im\n",
    "                # cropped_im.paste(red_dot, (0,0))\n",
    "                fixed_x = crop_coords[0]\n",
    "                fixed_y = crop_coords[1]\n",
    "                shift_x = im_shape[0] - cropped_im_shape[0]\n",
    "                shift_y = 0\n",
    "\n",
    "                fixed = (fixed_x, fixed_y)\n",
    "                moving = (shift_x, shift_y)\n",
    "\n",
    "                distance = np.sqrt((fixed[0] - moving[0])**2 + (fixed[1] - moving[1])**2)\n",
    "\n",
    "                # env_im.paste(cropped_im, (shift_x, shift_y))\n",
    "                # env_im.paste(green_dot, (fixed_x, fixed_y))\n",
    "                env = Env(im, cropped_im, crop_coords)\n",
    "                envs.append(env)\n",
    "                print(f'image: {path},  distance: {distance}')\n",
    "                im2 = im.copy()\n",
    "                if display:\n",
    "                    plt.imshow(im2)\n",
    "                    plt.show()\n",
    "                    plt.imshow(cropped_im)\n",
    "                    plt.show()\n",
    "                # resize to imagenet size\n",
    "                transform = Compose([Resize((112, 112)), ToTensor()])\n",
    "                x = transform(im)\n",
    "                x = x.unsqueeze(0) # add batch dim\n",
    "                x.shape\n",
    "    return envs"
   ]
  },
  {
   "cell_type": "code",
   "execution_count": 7,
   "metadata": {},
   "outputs": [],
   "source": [
    "# envs_test = preprocess_data('pets')"
   ]
  },
  {
   "cell_type": "code",
   "execution_count": 8,
   "metadata": {},
   "outputs": [
    {
     "name": "stdout",
     "output_type": "stream",
     "text": [
      "im_shape: (112, 112), cropped_im_shape: (37, 37)\n",
      "image: /home/ec2-user/repos/SARL_seg/coffee,  distance: 53.03772242470448\n",
      "im_shape: (112, 112), cropped_im_shape: (37, 37)\n",
      "image: /home/ec2-user/repos/SARL_seg/coffee,  distance: 53.03772242470448\n",
      "im_shape: (112, 112), cropped_im_shape: (37, 37)\n",
      "image: /home/ec2-user/repos/SARL_seg/coffee,  distance: 53.03772242470448\n",
      "im_shape: (112, 112), cropped_im_shape: (37, 37)\n",
      "image: /home/ec2-user/repos/SARL_seg/coffee,  distance: 53.03772242470448\n",
      "im_shape: (112, 112), cropped_im_shape: (37, 37)\n",
      "image: /home/ec2-user/repos/SARL_seg/coffee,  distance: 53.03772242470448\n",
      "im_shape: (112, 112), cropped_im_shape: (37, 37)\n",
      "image: /home/ec2-user/repos/SARL_seg/coffee,  distance: 53.03772242470448\n",
      "im_shape: (112, 112), cropped_im_shape: (37, 37)\n",
      "image: /home/ec2-user/repos/SARL_seg/coffee,  distance: 53.03772242470448\n",
      "im_shape: (112, 112), cropped_im_shape: (37, 37)\n",
      "image: /home/ec2-user/repos/SARL_seg/coffee,  distance: 53.03772242470448\n",
      "im_shape: (112, 112), cropped_im_shape: (37, 37)\n",
      "image: /home/ec2-user/repos/SARL_seg/coffee,  distance: 53.03772242470448\n",
      "im_shape: (112, 112), cropped_im_shape: (37, 37)\n",
      "image: /home/ec2-user/repos/SARL_seg/coffee,  distance: 53.03772242470448\n",
      "im_shape: (112, 112), cropped_im_shape: (37, 37)\n",
      "image: /home/ec2-user/repos/SARL_seg/coffee,  distance: 53.03772242470448\n",
      "im_shape: (112, 112), cropped_im_shape: (37, 37)\n",
      "image: /home/ec2-user/repos/SARL_seg/coffee,  distance: 53.03772242470448\n"
     ]
    },
    {
     "name": "stderr",
     "output_type": "stream",
     "text": [
      "/home/ec2-user/.local/lib/python3.7/site-packages/ipykernel_launcher.py:17: DeprecationWarning: ANTIALIAS is deprecated and will be removed in Pillow 10 (2023-07-01). Use Resampling.LANCZOS instead.\n",
      "  app.launch_new_instance()\n"
     ]
    }
   ],
   "source": [
    "envs = preprocess_data('/home/ec2-user/repos/SARL_seg/coffee', display=False)"
   ]
  },
  {
   "cell_type": "code",
   "execution_count": 9,
   "metadata": {
    "collapsed": false,
    "jupyter": {
     "outputs_hidden": false
    },
    "pycharm": {
     "name": "#%%\n"
    }
   },
   "outputs": [
    {
     "name": "stdout",
     "output_type": "stream",
     "text": [
      "cuda\n"
     ]
    }
   ],
   "source": [
    "device = torch.device(\"cuda\")\n",
    "print(device)\n",
    "\n",
    "env = envs[1]"
   ]
  },
  {
   "cell_type": "code",
   "execution_count": 10,
   "metadata": {
    "collapsed": false,
    "jupyter": {
     "outputs_hidden": false
    },
    "pycharm": {
     "name": "#%%\n"
    }
   },
   "outputs": [
    {
     "name": "stdout",
     "output_type": "stream",
     "text": [
      "Crop coords: (37, 37, 74, 74)\n",
      "75\n",
      "Reward: -29.017236257093817\n"
     ]
    },
    {
     "data": {
      "image/png": "[encoded data removed]",
      "text/plain": [
       "<Figure size 640x480 with 1 Axes>"
      ]
     },
     "metadata": {},
     "output_type": "display_data"
    },
    {
     "name": "stdout",
     "output_type": "stream",
     "text": [
      "1 29\n",
      "-0.0\n"
     ]
    },
    {
     "data": {
      "image/png": "[encoded data removed]",
      "text/plain": [
       "<Figure size 640x480 with 1 Axes>"
      ]
     },
     "metadata": {},
     "output_type": "display_data"
    }
   ],
   "source": [
    "im_b = env.reset()\n",
    "reward = env.get_reward()\n",
    "print(f\"Reward: {reward}\")\n",
    "plt.imshow(im_b)\n",
    "plt.show()\n",
    "# print(f\"shift coords: {env.shift_x}, {env.shift_y}\")\n",
    "# print(f\"moving coords: {env.crop_x}, {env.crop_y}\")\n",
    "# print(f\"diff: {env.crop_x-env.shift_x}, {env.crop_y-env.shift_y}\")\n",
    "targets = env.get_pred_target([0.5+(env.shift_x/(2*env.x_limit)),0.5+(env.shift_y/(2*env.y_limit))])\n",
    "print(env.crop_x-env.shift_x+0 ,env.crop_y - env.shift_y+0)\n",
    "im_a, r = env.move_image(env.crop_x-env.shift_x ,env.crop_y - env.shift_y)\n",
    "print(r)\n",
    "plt.imshow(im_a)\n",
    "plt.title(f'reward: {r}')\n",
    "plt.show()"
   ]
  },
  {
   "cell_type": "code",
   "execution_count": 11,
   "metadata": {
    "id": "Turv5_eBVrRv",
    "pycharm": {
     "name": "#%%\n"
    }
   },
   "outputs": [],
   "source": [
    "%matplotlib inline\n"
   ]
  },
  {
   "cell_type": "markdown",
   "metadata": {},
   "source": [
    "# Transformer"
   ]
  },
  {
   "cell_type": "markdown",
   "metadata": {},
   "source": [
    "### Patch embedding"
   ]
  },
  {
   "cell_type": "code",
   "execution_count": 12,
   "metadata": {},
   "outputs": [
    {
     "data": {
      "text/plain": [
       "torch.Size([1, 3, 112, 112])"
      ]
     },
     "execution_count": 12,
     "metadata": {},
     "output_type": "execute_result"
    }
   ],
   "source": [
    "im = Image.open('/home/ec2-user/repos/SARL_seg/coffee/01.jpg')\n",
    "transform = Compose([Resize((112, 112)), ToTensor()])\n",
    "x = transform(im)\n",
    "x = x.unsqueeze(0) # add batch dim\n",
    "x.shape"
   ]
  },
  {
   "cell_type": "code",
   "execution_count": 13,
   "metadata": {},
   "outputs": [
    {
     "data": {
      "text/plain": [
       "torch.Size([1, 50, 768])"
      ]
     },
     "execution_count": 13,
     "metadata": {},
     "output_type": "execute_result"
    }
   ],
   "source": [
    "class PatchEmbedding(nn.Module):\n",
    "    def __init__(self, in_channels: int = 3, patch_size: int = 16, emb_size: int = 768, img_size: int = 112):\n",
    "        self.patch_size = patch_size\n",
    "        super().__init__()\n",
    "        self.projection = nn.Sequential(\n",
    "            # using a conv layer instead of a linear one -> performance gains\n",
    "            nn.Conv2d(in_channels, emb_size, kernel_size=patch_size, stride=patch_size),\n",
    "            Rearrange('b e (h) (w) -> b (h w) e'),\n",
    "        )\n",
    "        self.cls_token = nn.Parameter(torch.randn(1,1, emb_size))\n",
    "        self.positions = nn.Parameter(torch.randn((img_size // patch_size) **2 + 1, emb_size))\n",
    "\n",
    "\n",
    "    def forward(self, x: Tensor) -> Tensor:\n",
    "        b, _, _, _ = x.shape\n",
    "        x = self.projection(x)\n",
    "        cls_tokens = repeat(self.cls_token, '() n e -> b n e', b=b)\n",
    "        # prepend the cls token to the input\n",
    "        x = torch.cat([cls_tokens, x], dim=1)\n",
    "        # add position embedding\n",
    "        x += self.positions\n",
    "        return x\n",
    "\n",
    "PatchEmbedding()(x).shape"
   ]
  },
  {
   "cell_type": "markdown",
   "metadata": {},
   "source": [
    "### Attention"
   ]
  },
  {
   "cell_type": "code",
   "execution_count": 14,
   "metadata": {},
   "outputs": [
    {
     "data": {
      "text/plain": [
       "torch.Size([1, 50, 768])"
      ]
     },
     "execution_count": 14,
     "metadata": {},
     "output_type": "execute_result"
    }
   ],
   "source": [
    "class MultiHeadAttention(nn.Module):\n",
    "    def __init__(self, emb_size: int = 768, num_heads: int = 8, dropout: float = 0):\n",
    "        super().__init__()\n",
    "        self.emb_size = emb_size\n",
    "        self.num_heads = num_heads\n",
    "        # fuse the queries, keys and values in one matrix\n",
    "        self.qkv = nn.Linear(emb_size, emb_size * 3)\n",
    "        self.att_drop = nn.Dropout(dropout)\n",
    "        self.projection = nn.Linear(emb_size, emb_size)\n",
    "\n",
    "    def forward(self, x : Tensor, mask: Tensor = None) -> Tensor:\n",
    "        # split keys, queries and values in num_heads\n",
    "        qkv = rearrange(self.qkv(x), \"b n (h d qkv) -> (qkv) b h n d\", h=self.num_heads, qkv=3)\n",
    "        queries, keys, values = qkv[0], qkv[1], qkv[2]\n",
    "        # sum up over the last axis\n",
    "        energy = torch.einsum('bhqd, bhkd -> bhqk', queries, keys) # batch, num_heads, query_len, key_len\n",
    "        if mask is not None:\n",
    "            fill_value = torch.finfo(torch.float32).min\n",
    "            energy.mask_fill(~mask, fill_value)\n",
    "\n",
    "        scaling = self.emb_size ** (1/2)\n",
    "        att = F.softmax(energy, dim=-1) / scaling\n",
    "        att = self.att_drop(att)\n",
    "        # sum up over the third axis\n",
    "        out = torch.einsum('bhal, bhlv -> bhav ', att, values)\n",
    "        out = rearrange(out, \"b h n d -> b n (h d)\")\n",
    "        out = self.projection(out)\n",
    "        return out\n",
    "\n",
    "patches_embedded = PatchEmbedding()(x)\n",
    "MultiHeadAttention()(patches_embedded).shape"
   ]
  },
  {
   "cell_type": "markdown",
   "metadata": {},
   "source": [
    "### Residual"
   ]
  },
  {
   "cell_type": "code",
   "execution_count": 15,
   "metadata": {},
   "outputs": [],
   "source": [
    "class ResidualAdd(nn.Module):\n",
    "    def __init__(self, fn):\n",
    "        super().__init__()\n",
    "        self.fn = fn\n",
    "\n",
    "    def forward(self, x, **kwargs):\n",
    "        res = x\n",
    "        x = self.fn(x, **kwargs)\n",
    "        x += res\n",
    "        return x"
   ]
  },
  {
   "cell_type": "markdown",
   "metadata": {},
   "source": [
    "### Feed forward"
   ]
  },
  {
   "cell_type": "code",
   "execution_count": 16,
   "metadata": {},
   "outputs": [],
   "source": [
    "class FeedForwardBlock(nn.Sequential):\n",
    "    def __init__(self, emb_size: int, expansion: int = 4, drop_p: float = 0.):\n",
    "        super().__init__(\n",
    "            nn.Linear(emb_size, expansion * emb_size),\n",
    "            nn.GELU(),\n",
    "            nn.Dropout(drop_p),\n",
    "            nn.Linear(expansion * emb_size, emb_size),\n",
    "        )"
   ]
  },
  {
   "cell_type": "markdown",
   "metadata": {},
   "source": [
    "### Transformer encoder"
   ]
  },
  {
   "cell_type": "code",
   "execution_count": 17,
   "metadata": {},
   "outputs": [],
   "source": [
    "class TransformerEncoderBlock(nn.Sequential):\n",
    "    def __init__(self,\n",
    "                 emb_size: int = 768,\n",
    "                 drop_p: float = 0.,\n",
    "                 forward_expansion: int = 4,\n",
    "                 forward_drop_p: float = 0.,\n",
    "                 ** kwargs):\n",
    "        super().__init__(\n",
    "            ResidualAdd(nn.Sequential(\n",
    "                nn.LayerNorm(emb_size),\n",
    "                MultiHeadAttention(emb_size, **kwargs),\n",
    "                nn.Dropout(drop_p)\n",
    "            )),\n",
    "            ResidualAdd(nn.Sequential(\n",
    "                nn.LayerNorm(emb_size),\n",
    "                FeedForwardBlock(\n",
    "                    emb_size, expansion=forward_expansion, drop_p=forward_drop_p),\n",
    "                nn.Dropout(drop_p)\n",
    "            )\n",
    "            ))"
   ]
  },
  {
   "cell_type": "code",
   "execution_count": 18,
   "metadata": {},
   "outputs": [
    {
     "data": {
      "text/plain": [
       "torch.Size([1, 50, 768])"
      ]
     },
     "execution_count": 18,
     "metadata": {},
     "output_type": "execute_result"
    }
   ],
   "source": [
    "patches_embedded = PatchEmbedding()(x)\n",
    "TransformerEncoderBlock()(patches_embedded).shape"
   ]
  },
  {
   "cell_type": "code",
   "execution_count": 19,
   "metadata": {},
   "outputs": [],
   "source": [
    "class TransformerEncoder(nn.Sequential):\n",
    "    def __init__(self, depth: int = 12, **kwargs):\n",
    "        super().__init__(*[TransformerEncoderBlock(**kwargs) for _ in range(depth)])\n"
   ]
  },
  {
   "cell_type": "markdown",
   "metadata": {},
   "source": [
    "### Head"
   ]
  },
  {
   "cell_type": "code",
   "execution_count": 21,
   "metadata": {},
   "outputs": [],
   "source": [
    "class ClassificationHead(nn.Sequential):\n",
    "    def __init__(self, emb_size: int = 768, n_classes: int = 4):\n",
    "        super().__init__(\n",
    "            Reduce('b n e -> b e', reduction='mean'),\n",
    "            nn.LayerNorm(emb_size),\n",
    "            nn.Linear(emb_size, n_classes),\n",
    "            nn.Sigmoid())"
   ]
  },
  {
   "cell_type": "markdown",
   "metadata": {},
   "source": [
    "## ViT"
   ]
  },
  {
   "cell_type": "code",
   "execution_count": 38,
   "metadata": {},
   "outputs": [],
   "source": [
    "class ViT(nn.Sequential):\n",
    "    def __init__(self,\n",
    "                in_channels: int = 3,\n",
    "                patch_size: int = 24,\n",
    "                emb_size: int = 768,\n",
    "                img_size: int = 112,\n",
    "                depth: int = 12,\n",
    "                n_classes: int = 4,\n",
    "                **kwargs):\n",
    "        super().__init__(\n",
    "            PatchEmbedding(in_channels, patch_size, emb_size, img_size),\n",
    "            TransformerEncoder(depth, emb_size=emb_size, **kwargs),\n",
    "            ClassificationHead(emb_size, n_classes)\n",
    "        )\n",
    "\n",
    "    def act(self, state):\n",
    "        # resize to imagenet size\n",
    "        transform = Compose([Resize((224, 224)), ToTensor()])\n",
    "        x = transform(state)\n",
    "        x = x.unsqueeze(0).to(device) # add batch dim\n",
    "        # state = torch.from_numpy(state).float().T.unsqueeze(0).to(device)\n",
    "        out = self.forward(x).to(device)\n",
    "        # print(f'network output: {out}')\n",
    "        action = out.clone()[0]\n",
    "        action = action.detach().cpu()\n",
    "        np_action = action.numpy()\n",
    "        np_action[0] = (np_action[0] * 2 - 1) * env.x_limit\n",
    "        np_action[1] = (np_action[1] * 2 - 1) * env.y_limit\n",
    "        return np_action, out[0]\n",
    "\n"
   ]
  },
  {
   "cell_type": "markdown",
   "metadata": {
    "id": "gKyf_u6BVrRx",
    "pycharm": {
     "name": "#%% md\n"
    }
   },
   "source": [
    "\n",
    "Reinforcement Learning (DQN) Tutorial\n",
    "=====================================\n",
    "**Author**: `Adam Paszke <https://github.com/apaszke>`_\n",
    "\n",
    "\n",
    "This tutorial shows how to use PyTorch to train a Deep Q Learning (DQN) agent\n",
    "on the CartPole-v0 task from the `OpenAI Gym <https://www.gymlibrary.ml/>`__.\n",
    "\n",
    "**Task**\n",
    "\n",
    "The agent has to decide between two actions - moving the cart left or\n",
    "right - so that the pole attached to it stays upright. You can find an\n",
    "official leaderboard with various algorithms and visualizations at the\n",
    "`Gym website <https://www.gymlibrary.ml/environments/classic_control/cart_pole>`__.\n",
    "\n",
    ".. figure:: /_static/img/cartpole.gif\n",
    "   :alt: cartpole\n",
    "\n",
    "   cartpole\n",
    "\n",
    "As the agent observes the current state of the environment and chooses\n",
    "an action, the environment *transitions* to a new state, and also\n",
    "returns a reward that indicates the consequences of the action. In this\n",
    "task, rewards are +1 for every incremental timestep and the environment\n",
    "terminates if the pole falls over too far or the cart moves more then 2.4\n",
    "units away from center. This means better performing scenarios will run\n",
    "for longer duration, accumulating larger return.\n",
    "\n",
    "The CartPole task is designed so that the inputs to the agent are 4 real\n",
    "values representing the environment state (position, velocity, etc.).\n",
    "However, neural networks can solve the task purely by looking at the\n",
    "scene, so we'll use a patch of the screen centered on the cart as an\n",
    "input. Because of this, our results aren't directly comparable to the\n",
    "ones from the official leaderboard - our task is much harder.\n",
    "Unfortunately this does slow down the training, because we have to\n",
    "render all the frames.\n",
    "\n",
    "Strictly speaking, we will present the state as the difference between\n",
    "the current screen patch and the previous one. This will allow the agent\n",
    "to take the velocity of the pole into account from one image.\n",
    "\n",
    "**Packages**\n",
    "\n",
    "\n",
    "First, let's import needed packages. Firstly, we need\n",
    "`gym <https://github.com/openai/gym>`__ for the environment\n",
    "(Install using `pip install gym`).\n",
    "We'll also use the following from PyTorch:\n",
    "\n",
    "-  neural networks (``torch.nn``)\n",
    "-  optimization (``torch.optim``)\n",
    "-  automatic differentiation (``torch.autograd``)\n",
    "-  utilities for vision tasks (``torchvision`` - `a separate\n",
    "   package <https://github.com/pytorch/vision>`__).\n"
   ]
  },
  {
   "cell_type": "code",
   "execution_count": 39,
   "metadata": {
    "id": "ZvXAyc0dVrRz",
    "pycharm": {
     "name": "#%%\n"
    }
   },
   "outputs": [],
   "source": [
    "# import gym\n",
    "import math\n",
    "import random\n",
    "import numpy as np\n",
    "import matplotlib\n",
    "import matplotlib.pyplot as plt\n",
    "from collections import namedtuple, deque\n",
    "from itertools import count\n",
    "from PIL import Image\n",
    "\n",
    "import torch\n",
    "import torch.nn as nn\n",
    "import torch.optim as optim\n",
    "import torch.nn.functional as F\n",
    "import torchvision.transforms as T\n",
    "\n",
    "# set up matplotlib\n",
    "is_ipython = 'inline' in matplotlib.get_backend()\n",
    "if is_ipython:\n",
    "    from IPython import display\n",
    "\n",
    "plt.ion()\n",
    "\n",
    "# if gpu is to be used\n",
    "device = torch.device(\"cuda\" if torch.cuda.is_available() else \"cpu\")"
   ]
  },
  {
   "cell_type": "markdown",
   "metadata": {
    "id": "ZoOpI6wpVrR0",
    "pycharm": {
     "name": "#%% md\n"
    }
   },
   "source": [
    "Replay Memory\n",
    "-------------\n",
    "\n",
    "We'll be using experience replay memory for training our DQN. It stores\n",
    "the transitions that the agent observes, allowing us to reuse this data\n",
    "later. By sampling from it randomly, the transitions that build up a\n",
    "batch are decorrelated. It has been shown that this greatly stabilizes\n",
    "and improves the DQN training procedure.\n",
    "\n",
    "For this, we're going to need two classses:\n",
    "\n",
    "-  ``Transition`` - a named tuple representing a single transition in\n",
    "   our environment. It essentially maps (state, action) pairs\n",
    "   to their (next_state, reward) result, with the state being the\n",
    "   screen difference image as described later on.\n",
    "-  ``ReplayMemory`` - a cyclic buffer of bounded size that holds the\n",
    "   transitions observed recently. It also implements a ``.sample()``\n",
    "   method for selecting a random batch of transitions for training.\n",
    "\n",
    "\n"
   ]
  },
  {
   "cell_type": "code",
   "execution_count": 40,
   "metadata": {
    "id": "pjuZ38WFVrR0",
    "pycharm": {
     "name": "#%%\n"
    }
   },
   "outputs": [],
   "source": [
    "import numpy as np\n",
    "\n",
    "Transition = namedtuple('Transition',\n",
    "                        ('state', 'action', 'next_state', 'reward'))\n",
    "\n",
    "\n",
    "class ReplayMemory(object):\n",
    "\n",
    "    def __init__(self, capacity):\n",
    "        self.memory = deque([],maxlen=capacity)\n",
    "\n",
    "    def push(self, *args):\n",
    "        \"\"\"Save a transition\"\"\"\n",
    "        self.memory.append(Transition(*args))\n",
    "\n",
    "    def sample(self, batch_size):       \n",
    "        return random.sample(self.memory, batch_size)\n",
    "\n",
    "    def __len__(self):\n",
    "        return len(self.memory)"
   ]
  },
  {
   "cell_type": "markdown",
   "metadata": {
    "id": "spxHH3UPVrR0",
    "pycharm": {
     "name": "#%% md\n"
    }
   },
   "source": [
    "Now, let's define our model. But first, let's quickly recap what a DQN is.\n",
    "\n",
    "DQN algorithm\n",
    "-------------\n",
    "\n",
    "Our environment is deterministic, so all equations presented here are\n",
    "also formulated deterministically for the sake of simplicity. In the\n",
    "reinforcement learning literature, they would also contain expectations\n",
    "over stochastic transitions in the environment.\n",
    "\n",
    "Our aim will be to train a policy that tries to maximize the discounted,\n",
    "cumulative reward\n",
    "$R_{t_0} = \\sum_{t=t_0}^{\\infty} \\gamma^{t - t_0} r_t$, where\n",
    "$R_{t_0}$ is also known as the *return*. The discount,\n",
    "$\\gamma$, should be a constant between $0$ and $1$\n",
    "that ensures the sum converges. It makes rewards from the uncertain far\n",
    "future less important for our agent than the ones in the near future\n",
    "that it can be fairly confident about.\n",
    "\n",
    "The main idea behind Q-learning is that if we had a function\n",
    "$Q^*: State \\times Action \\rightarrow \\mathbb{R}$, that could tell\n",
    "us what our return would be, if we were to take an action in a given\n",
    "state, then we could easily construct a policy that maximizes our\n",
    "rewards:\n",
    "\n",
    "\\begin{align}\\pi^*(s) = \\arg\\!\\max_a \\ Q^*(s, a)\\end{align}\n",
    "\n",
    "However, we don't know everything about the world, so we don't have\n",
    "access to $Q^*$. But, since neural networks are universal function\n",
    "approximators, we can simply create one and train it to resemble\n",
    "$Q^*$.\n",
    "\n",
    "For our training update rule, we'll use a fact that every $Q$\n",
    "function for some policy obeys the Bellman equation:\n",
    "\n",
    "\\begin{align}Q^{\\pi}(s, a) = r + \\gamma Q^{\\pi}(s', \\pi(s'))\\end{align}\n",
    "\n",
    "The difference between the two sides of the equality is known as the\n",
    "temporal difference error, $\\delta$:\n",
    "\n",
    "\\begin{align}\\delta = Q(s, a) - (r + \\gamma \\max_a Q(s', a))\\end{align}\n",
    "\n",
    "To minimise this error, we will use the `Huber\n",
    "loss <https://en.wikipedia.org/wiki/Huber_loss>`__. The Huber loss acts\n",
    "like the mean squared error when the error is small, but like the mean\n",
    "absolute error when the error is large - this makes it more robust to\n",
    "outliers when the estimates of $Q$ are very noisy. We calculate\n",
    "this over a batch of transitions, $B$, sampled from the replay\n",
    "memory:\n",
    "\n",
    "\\begin{align}\\mathcal{L} = \\frac{1}{|B|}\\sum_{(s, a, s', r) \\ \\in \\ B} \\mathcal{L}(\\delta)\\end{align}\n",
    "\n",
    "\\begin{align}\\text{where} \\quad \\mathcal{L}(\\delta) = \\begin{cases}\n",
    "     \\frac{1}{2}{\\delta^2}  & \\text{for } |\\delta| \\le 1, \\\\\n",
    "     |\\delta| - \\frac{1}{2} & \\text{otherwise.}\n",
    "   \\end{cases}\\end{align}\n",
    "\n",
    "Q-network\n",
    "^^^^^^^^^\n",
    "\n",
    "Our model will be a convolutional neural network that takes in the\n",
    "difference between the current and previous screen patches. It has two\n",
    "outputs, representing $Q(s, \\mathrm{left})$ and\n",
    "$Q(s, \\mathrm{right})$ (where $s$ is the input to the\n",
    "network). In effect, the network is trying to predict the *expected return* of\n",
    "taking each action given the current input.\n",
    "\n",
    "\n"
   ]
  },
  {
   "cell_type": "code",
   "execution_count": 41,
   "metadata": {
    "id": "XeHhkRS5VrR1",
    "pycharm": {
     "name": "#%%\n"
    }
   },
   "outputs": [],
   "source": [
    "class DQN(nn.Module):\n",
    "\n",
    "    def __init__(self, h, w, outputs):\n",
    "        super(DQN, self).__init__()\n",
    "        self.conv1 = nn.Conv2d(3, 16, kernel_size=5, stride=2)\n",
    "        self.bn1 = nn.BatchNorm2d(16)\n",
    "        self.conv2 = nn.Conv2d(16, 16, kernel_size=5, stride=2)\n",
    "        self.bn2 = nn.BatchNorm2d(16)\n",
    "        self.conv3 = nn.Conv2d(16, 32, kernel_size=5, stride=2)\n",
    "        self.bn3 = nn.BatchNorm2d(32)\n",
    "        self.conv4 = nn.Conv2d(32, 32, kernel_size=5, stride=2)\n",
    "        self.bn4 = nn.BatchNorm2d(32)\n",
    "\n",
    "        # Number of Linear input connections depends on output of conv2d layers\n",
    "        # and therefore the input image size, so compute it.\n",
    "        def conv2d_size_out(size, kernel_size = 5, stride = 2):\n",
    "            return (size - (kernel_size - 1) - 1) // stride  + 1\n",
    "        convw = conv2d_size_out(conv2d_size_out(conv2d_size_out(conv2d_size_out(w))))\n",
    "        convh = conv2d_size_out(conv2d_size_out(conv2d_size_out(conv2d_size_out(h))))\n",
    "        linear_input_size = convw * convh * 32\n",
    "        self.head = nn.Linear(linear_input_size, outputs)\n",
    "\n",
    "    # Called with either one element to determine next action, or a batch\n",
    "    # during optimization. Returns tensor([[left0exp,right0exp]...]).\n",
    "    def forward(self, x):\n",
    "        x = x.to(device)\n",
    "        x = F.relu(self.bn1(self.conv1(x)))\n",
    "        x = F.relu(self.bn2(self.conv2(x)))\n",
    "        x = F.relu(self.bn3(self.conv3(x)))\n",
    "        x = F.relu(self.bn4(self.conv4(x)))\n",
    "        return self.head(x.view(x.size(0), -1))"
   ]
  },
  {
   "cell_type": "markdown",
   "metadata": {
    "id": "t9GrshvuVrR1",
    "pycharm": {
     "name": "#%% md\n"
    }
   },
   "source": [
    "Input extraction\n",
    "^^^^^^^^^^^^^^^^\n",
    "\n",
    "The code below are utilities for extracting and processing rendered\n",
    "images from the environment. It uses the ``torchvision`` package, which\n",
    "makes it easy to compose image transforms. Once you run the cell it will\n",
    "display an example patch that it extracted.\n",
    "\n",
    "\n"
   ]
  },
  {
   "cell_type": "code",
   "execution_count": 42,
   "metadata": {
    "id": "839ioNKtVrR2",
    "pycharm": {
     "name": "#%%\n"
    }
   },
   "outputs": [
    {
     "name": "stdout",
     "output_type": "stream",
     "text": [
      "Crop coords: (37, 37, 74, 74)\n",
      "75\n"
     ]
    },
    {
     "name": "stderr",
     "output_type": "stream",
     "text": [
      "/home/ec2-user/.local/lib/python3.7/site-packages/ipykernel_launcher.py:2: DeprecationWarning: CUBIC is deprecated and will be removed in Pillow 10 (2023-07-01). Use Resampling.BICUBIC instead.\n",
      "  \n",
      "/home/ec2-user/.local/lib/python3.7/site-packages/torchvision/transforms/transforms.py:333: UserWarning: Argument 'interpolation' of type int is deprecated since 0.13 and will be removed in 0.15. Please use InterpolationMode enum.\n",
      "  \"Argument 'interpolation' of type int is deprecated since 0.13 and will be removed in 0.15. \"\n"
     ]
    },
    {
     "data": {
      "image/png": "[encoded data removed]",
      "text/plain": [
       "<Figure size 640x480 with 1 Axes>"
      ]
     },
     "metadata": {},
     "output_type": "display_data"
    },
    {
     "name": "stdout",
     "output_type": "stream",
     "text": [
      "torch.Size([1, 3, 112, 112])\n"
     ]
    }
   ],
   "source": [
    "resize = T.Compose([T.ToPILImage(),\n",
    "                    T.Resize(112, interpolation=Image.CUBIC),\n",
    "                    T.ToTensor()])\n",
    "\n",
    "\n",
    "def get_cart_location(screen_width):\n",
    "    world_width = env.x_threshold * 2\n",
    "    scale = screen_width / world_width\n",
    "    return int(env.state[0] * scale + screen_width / 2.0)  # MIDDLE OF CART\n",
    "\n",
    "def get_screen_old():\n",
    "    # Returned screen requested by gym is 400x600x3, but is sometimes larger\n",
    "    # such as 800x1200x3. Transpose it into torch order (CHW).\n",
    "    screen = env.render(mode='rgb_array').transpose((2, 0, 1))\n",
    "    # Cart is in the lower half, so strip off the top and bottom of the screen\n",
    "    _, screen_height, screen_width = screen.shape\n",
    "    screen = screen[:, int(screen_height*0.4):int(screen_height * 0.8)]\n",
    "    view_width = int(screen_width * 0.6)\n",
    "    cart_location = get_cart_location(screen_width)\n",
    "    if cart_location < view_width // 2:\n",
    "        slice_range = slice(view_width)\n",
    "    elif cart_location > (screen_width - view_width // 2):\n",
    "        slice_range = slice(-view_width, None)\n",
    "    else:\n",
    "        slice_range = slice(cart_location - view_width // 2,\n",
    "                            cart_location + view_width // 2)\n",
    "    # Strip off the edges, so that we have a square image centered on a cart\n",
    "    screen = screen[:, :, slice_range]\n",
    "    # Convert to float, rescale, convert to torch tensor\n",
    "    # (this doesn't require a copy)\n",
    "    screen = np.ascontiguousarray(screen, dtype=np.float32) / 255\n",
    "    screen = torch.from_numpy(screen)\n",
    "    # Resize, and add a batch dimension (BCHW)\n",
    "    return resize(screen).unsqueeze(0)\n",
    "\n",
    "def get_screen():\n",
    "    screen = env.env_image\n",
    "    screen = np.ascontiguousarray(screen, dtype=np.float32) / 255\n",
    "    screen = torch.from_numpy(screen)\n",
    "    # Resize, and add a batch dimension (BCHW)\n",
    "\n",
    "    return resize(screen.T).unsqueeze(0)\n",
    "\n",
    "\n",
    "\n",
    "\n",
    "env.reset()\n",
    "plt.figure()\n",
    "plt.imshow(get_screen().cpu().squeeze(0).permute(1, 2, 0).numpy(),\n",
    "           interpolation='none')\n",
    "plt.title('Example extracted screen')\n",
    "plt.show()\n",
    "\n",
    "print(get_screen().shape)"
   ]
  },
  {
   "cell_type": "markdown",
   "metadata": {
    "id": "2piLw3bOVrR2",
    "pycharm": {
     "name": "#%% md\n"
    }
   },
   "source": [
    "Training\n",
    "--------\n",
    "\n",
    "Hyperparameters and utilities\n",
    "^^^^^^^^^^^^^^^^^^^^^^^^^^^^^\n",
    "This cell instantiates our model and its optimizer, and defines some\n",
    "utilities:\n",
    "\n",
    "-  ``select_action`` - will select an action accordingly to an epsilon\n",
    "   greedy policy. Simply put, we'll sometimes use our model for choosing\n",
    "   the action, and sometimes we'll just sample one uniformly. The\n",
    "   probability of choosing a random action will start at ``EPS_START``\n",
    "   and will decay exponentially towards ``EPS_END``. ``EPS_DECAY``\n",
    "   controls the rate of the decay.\n",
    "-  ``plot_durations`` - a helper for plotting the durations of episodes,\n",
    "   along with an average over the last 100 episodes (the measure used in\n",
    "   the official evaluations). The plot will be underneath the cell\n",
    "   containing the main training loop, and will update after every\n",
    "   episode.\n",
    "\n",
    "\n"
   ]
  },
  {
   "cell_type": "code",
   "execution_count": 49,
   "metadata": {
    "id": "-QGh6cR-VrR3",
    "pycharm": {
     "name": "#%%\n"
    }
   },
   "outputs": [],
   "source": [
    "BATCH_SIZE = 24\n",
    "GAMMA = 0.99\n",
    "EPS_START = 0.9\n",
    "EPS_END = 0.05\n",
    "EPS_DECAY = 100\n",
    "TARGET_UPDATE = 2\n",
    "MEMORY_CAPACITY = 10000\n",
    "PATCH_SIZE = 12\n",
    "EMB_SIZE = 384\n",
    "DEPTH = 6\n",
    "# Get screen size so that we can initialize layers correctly based on shape\n",
    "# returned from AI gym. Typical dimensions at this point are close to 3x40x90\n",
    "# which is the result of a clamped and down-scaled render buffer in get_screen()\n",
    "init_screen = get_screen()\n",
    "_, _, screen_height, screen_width = init_screen.shape\n",
    "\n",
    "# Get number of actions from gym action space\n",
    "n_actions = env.action_space\n",
    "\n",
    "# policy_net = DQN(screen_height, screen_width, n_actions).to(device)\n",
    "# target_net = DQN(screen_height, screen_width, n_actions).to(device)\n",
    "policy_net = ViT(emb_size=EMB_SIZE, depth=DEPTH, patch_size=PATCH_SIZE).to(device)\n",
    "target_net = ViT(emb_size=EMB_SIZE, depth=DEPTH, patch_size=PATCH_SIZE).to(device)\n",
    "target_net.load_state_dict(policy_net.state_dict())\n",
    "target_net.eval()\n",
    "\n",
    "optimizer = optim.RMSprop(policy_net.parameters())\n",
    "memory = ReplayMemory(MEMORY_CAPACITY)\n",
    "\n",
    "\n",
    "steps_done = 0\n",
    "\n",
    "\n",
    "def select_action(state):\n",
    "    global steps_done\n",
    "    sample = random.random()\n",
    "    eps_threshold = EPS_END + (EPS_START - EPS_END) * \\\n",
    "        math.exp(-1. * steps_done / EPS_DECAY)\n",
    "    steps_done += 1\n",
    "    if sample > eps_threshold:\n",
    "        with torch.no_grad():\n",
    "            # t.max(1) will return largest column value of each row.\n",
    "            # second column on max result is index of where max element was\n",
    "            # found, so we pick action with the larger expected reward.\n",
    "            out = policy_net(state.cuda())\n",
    "            act = out.max(1)[1].view(1, 1)\n",
    "            return policy_net(state.cuda()).max(1)[1].view(1, 1)\n",
    "    else:\n",
    "        return torch.tensor([[random.randrange(n_actions)]], device=device, dtype=torch.long)\n",
    "\n",
    "\n",
    "episode_durations = []\n",
    "\n",
    "\n",
    "def plot_durations():\n",
    "    plt.figure(2)\n",
    "    plt.clf()\n",
    "    durations_t = torch.tensor(episode_durations, dtype=torch.float)\n",
    "    plt.title('Training...')\n",
    "    plt.xlabel('Episode')\n",
    "    plt.ylabel('Duration')\n",
    "    plt.plot(durations_t.numpy())\n",
    "    # Take 100 episode averages and plot them too\n",
    "    if len(durations_t) >= 100:\n",
    "        means = durations_t.unfold(0, 100, 1).mean(1).view(-1)\n",
    "        means = torch.cat((torch.zeros(99), means))\n",
    "        plt.plot(means.numpy())\n",
    "\n",
    "#     plt.pause(0.001)  # pause a bit so that plots are updated\n",
    "#     if is_ipython:\n",
    "# #         display.clear_output(wait=True)\n",
    "# #         display.display(plt.gcf())"
   ]
  },
  {
   "cell_type": "markdown",
   "metadata": {
    "id": "bFWr-wGdVrR3",
    "pycharm": {
     "name": "#%% md\n"
    }
   },
   "source": [
    "Training loop\n",
    "^^^^^^^^^^^^^\n",
    "\n",
    "Finally, the code for training our model.\n",
    "\n",
    "Here, you can find an ``optimize_model`` function that performs a\n",
    "single step of the optimization. It first samples a batch, concatenates\n",
    "all the tensors into a single one, computes $Q(s_t, a_t)$ and\n",
    "$V(s_{t+1}) = \\max_a Q(s_{t+1}, a)$, and combines them into our\n",
    "loss. By definition we set $V(s) = 0$ if $s$ is a terminal\n",
    "state. We also use a target network to compute $V(s_{t+1})$ for\n",
    "added stability. The target network has its weights kept frozen most of\n",
    "the time, but is updated with the policy network's weights every so often.\n",
    "This is usually a set number of steps but we shall use episodes for\n",
    "simplicity.\n",
    "\n",
    "\n"
   ]
  },
  {
   "cell_type": "code",
   "execution_count": 50,
   "metadata": {
    "id": "ijBtYrRpVrR3",
    "pycharm": {
     "name": "#%%\n"
    }
   },
   "outputs": [],
   "source": [
    "def optimize_model(log_loss=False):\n",
    "    if len(memory) < BATCH_SIZE:\n",
    "        return\n",
    "    # sample random (state, action, next_state, reward)*BATCH_SIZE from the memory and get the values for their values.\n",
    "    transitions = memory.sample(BATCH_SIZE)\n",
    "    # Transpose the batch (see https://stackoverflow.com/a/19343/3343043 for\n",
    "    # detailed explanation). This converts batch-array of Transitions\n",
    "    # to Transition of batch-arrays.\n",
    "    batch = Transition(*zip(*transitions))\n",
    "\n",
    "    # Compute a mask of non-final states and concatenate the batch elements\n",
    "    # (a final state would've been the one after which simulation ended)\n",
    "    # find for each next state whether it's none or not\n",
    "    non_final_mask = torch.tensor(tuple(map(lambda s: s is not None,\n",
    "                                          batch.next_state)), device=device, dtype=torch.bool)\n",
    "    non_final_next_states = torch.cat([s.cuda() for s in batch.next_state\n",
    "                                                if s is not None])\n",
    "    state_batch = torch.cat(batch.state)\n",
    "    action_batch = torch.cat(batch.action)\n",
    "    reward_batch = torch.cat(batch.reward)\n",
    "\n",
    "    # Compute Q(s_t, a) - the model computes Q(s_t), then we select the\n",
    "    # columns of actions taken. These are the actions which would've been taken\n",
    "    # for each batch state according to policy_net\n",
    "    state_action_values = policy_net(state_batch.cuda()).gather(1, action_batch)\n",
    "\n",
    "    # Compute V(s_{t+1}) for all next states.\n",
    "    # Expected values of actions for non_final_next_states are computed based\n",
    "    # on the \"older\" target_net; selecting their best reward with max(1)[0].\n",
    "    # This is merged based on the mask, such that we'll have either the expected\n",
    "    # state value or 0 in case the state was final.\n",
    "    next_state_values = torch.zeros(BATCH_SIZE, device=device)\n",
    "    next_state_values[non_final_mask] = target_net(non_final_next_states).max(1)[0].detach()\n",
    "    # Compute the expected Q values\n",
    "    expected_state_action_values = (next_state_values * GAMMA) + reward_batch\n",
    "\n",
    "    # Compute Huber loss\n",
    "    criterion = nn.SmoothL1Loss()\n",
    "    loss = criterion(state_action_values, expected_state_action_values.unsqueeze(1))\n",
    "    if log_loss:\n",
    "        print(f\"Loss: {loss}\")\n",
    "    # Optimize the model\n",
    "    optimizer.zero_grad()\n",
    "    loss.backward()\n",
    "    for param in policy_net.parameters():\n",
    "        param.grad.data.clamp_(-1, 1)\n",
    "    optimizer.step()"
   ]
  },
  {
   "cell_type": "code",
   "execution_count": 51,
   "metadata": {},
   "outputs": [
    {
     "name": "stdout",
     "output_type": "stream",
     "text": [
      "Crop coords: (37, 37, 74, 74)\n",
      "75\n"
     ]
    },
    {
     "data": {
      "image/png": "[encoded data removed]",
      "text/plain": [
       "<PIL.Image.Image image mode=RGB size=112x112>"
      ]
     },
     "execution_count": 51,
     "metadata": {},
     "output_type": "execute_result"
    }
   ],
   "source": [
    "env = envs[3]\n",
    "env.reset()"
   ]
  },
  {
   "cell_type": "markdown",
   "metadata": {
    "id": "xy95ylRIVrR3",
    "pycharm": {
     "name": "#%% md\n"
    }
   },
   "source": [
    "Below, you can find the main training loop. At the beginning we reset\n",
    "the environment and initialize the ``state`` Tensor. Then, we sample\n",
    "an action, execute it, observe the next screen and the reward (always\n",
    "1), and optimize our model once. When the episode ends (our model\n",
    "fails), we restart the loop.\n",
    "\n",
    "Below, `num_episodes` is set small. You should download\n",
    "the notebook and run lot more epsiodes, such as 300+ for meaningful\n",
    "duration improvements.\n",
    "\n",
    "\n"
   ]
  },
  {
   "cell_type": "code",
   "execution_count": 52,
   "metadata": {
    "id": "2xhIALxUVrR4",
    "pycharm": {
     "is_executing": true,
     "name": "#%%\n"
    }
   },
   "outputs": [
    {
     "name": "stdout",
     "output_type": "stream",
     "text": [
      "Crop coords: (37, 37, 74, 74)\n",
      "75\n"
     ]
    },
    {
     "data": {
      "image/png": "[encoded data removed]",
      "text/plain": [
       "<Figure size 640x480 with 1 Axes>"
      ]
     },
     "metadata": {},
     "output_type": "display_data"
    },
    {
     "name": "stdout",
     "output_type": "stream",
     "text": [
      "0# episode: 0, reward: None, action: tensor([[3]], device='cuda:0')\n",
      "50# episode: 0, reward: -46.04345773288535, action: tensor([[0]], device='cuda:0')\n",
      "Loss: 38.39820280089521\n",
      "100# episode: 0, reward: -42.05948168962618, action: tensor([[2]], device='cuda:0')\n",
      "Loss: 40.670843984696376\n",
      "150# episode: 0, reward: -38.3275357934736, action: tensor([[0]], device='cuda:0')\n",
      "Loss: 39.093274619374995\n",
      "200# episode: 0, reward: -38.3275357934736, action: tensor([[0]], device='cuda:0')\n",
      "Loss: 39.74322503491142\n",
      "250# episode: 0, reward: -49.51767361255979, action: tensor([[3]], device='cuda:0')\n",
      "Loss: 39.20168134879593\n",
      "300# episode: 0, reward: -38.600518131237564, action: tensor([[3]], device='cuda:0')\n",
      "Loss: 39.735147550731625\n",
      "350# episode: 0, reward: -52.3450093132096, action: tensor([[1]], device='cuda:0')\n",
      "Loss: 39.16335682591597\n",
      "400# episode: 0, reward: -53.74011537017761, action: tensor([[0]], device='cuda:0')\n",
      "Loss: 42.128506094099535\n",
      "450# episode: 0, reward: -53.74011537017761, action: tensor([[0]], device='cuda:0')\n",
      "Loss: 42.60124213052063\n",
      "500# episode: 0, reward: -53.03772242470448, action: tensor([[0]], device='cuda:0')\n",
      "Loss: 46.24638179281281\n",
      "550# episode: 0, reward: -47.80167361086848, action: tensor([[3]], device='cuda:0')\n",
      "Loss: 46.03089581897522\n",
      "600# episode: 0, reward: -19.1049731745428, action: tensor([[2]], device='cuda:0')\n",
      "Loss: 43.48829966093241\n",
      "650# episode: 0, reward: -28.0178514522438, action: tensor([[2]], device='cuda:0')\n",
      "Loss: 42.10940296927873\n",
      "700# episode: 0, reward: -37.013511046643494, action: tensor([[2]], device='cuda:0')\n",
      "Loss: 47.27410159303904\n",
      "750# episode: 0, reward: -37.013511046643494, action: tensor([[2]], device='cuda:0')\n",
      "Loss: 41.84759249809329\n",
      "800# episode: 0, reward: -37.0, action: tensor([[2]], device='cuda:0')\n",
      "Loss: 43.33025230618075\n",
      "850# episode: 0, reward: -37.05401462729781, action: tensor([[2]], device='cuda:0')\n",
      "Loss: 39.48234061898529\n",
      "900# episode: 0, reward: -37.05401462729781, action: tensor([[2]], device='cuda:0')\n",
      "Loss: 42.215402418840675\n",
      "950# episode: 0, reward: -50.24937810560445, action: tensor([[1]], device='cuda:0')\n",
      "Loss: 39.04002652131045\n",
      "1000# episode: 0, reward: -53.03772242470448, action: tensor([[1]], device='cuda:0')\n",
      "Loss: 38.63030556655504\n",
      "1050# episode: 0, reward: -53.03772242470448, action: tensor([[1]], device='cuda:0')\n",
      "Loss: 41.46231808076503\n",
      "1100# episode: 0, reward: -40.718546143004666, action: tensor([[3]], device='cuda:0')\n",
      "Loss: 41.27810639618458\n",
      "1150# episode: 0, reward: -21.400934559032695, action: tensor([[0]], device='cuda:0')\n",
      "Loss: 38.74951952914612\n",
      "1200# episode: 0, reward: -30.463092423455635, action: tensor([[0]], device='cuda:0')\n",
      "Loss: 43.30314916157131\n",
      "1250# episode: 0, reward: -39.84971769034255, action: tensor([[0]], device='cuda:0')\n",
      "Loss: 42.162529484920654\n",
      "1300# episode: 0, reward: -53.03772242470448, action: tensor([[3]], device='cuda:0')\n",
      "Loss: 37.63670762584808\n",
      "1350# episode: 0, reward: -37.05401462729781, action: tensor([[2]], device='cuda:0')\n",
      "Loss: 37.44069087516165\n",
      "1400# episode: 0, reward: -52.32590180780452, action: tensor([[2]], device='cuda:0')\n",
      "Loss: 38.0399595600616\n",
      "1450# episode: 0, reward: -52.32590180780452, action: tensor([[3]], device='cuda:0')\n",
      "Loss: 43.77772357275777\n",
      "1500# episode: 0, reward: -51.62363799656123, action: tensor([[3]], device='cuda:0')\n",
      "Loss: 40.22300289994236\n",
      "1550# episode: 0, reward: -34.058772731852805, action: tensor([[1]], device='cuda:0')\n",
      "Loss: 42.28853026354396\n",
      "1600# episode: 0, reward: -38.18376618407357, action: tensor([[1]], device='cuda:0')\n",
      "Loss: 41.02859575895668\n",
      "1650# episode: 0, reward: -47.20169488482379, action: tensor([[1]], device='cuda:0')\n",
      "Loss: 42.269809500348224\n",
      "1700# episode: 0, reward: -46.61544808322666, action: tensor([[1]], device='cuda:0')\n",
      "Loss: 43.22095861958699\n",
      "1750# episode: 0, reward: -46.04345773288535, action: tensor([[1]], device='cuda:0')\n",
      "Loss: 39.544506281103104\n",
      "1800# episode: 0, reward: -46.04345773288535, action: tensor([[1]], device='cuda:0')\n",
      "Loss: 42.43697933223964\n",
      "1850# episode: 0, reward: -46.04345773288535, action: tensor([[1]], device='cuda:0')\n",
      "Loss: 43.447942437483086\n",
      "1900# episode: 0, reward: -41.593268686170845, action: tensor([[0]], device='cuda:0')\n",
      "Loss: 41.54047302943705\n",
      "1950# episode: 0, reward: -53.03772242470448, action: tensor([[0]], device='cuda:0')\n",
      "Loss: 38.24895720179453\n",
      "2000# episode: 0, reward: -38.63935817272331, action: tensor([[3]], device='cuda:0')\n",
      "Loss: 41.19810481905502\n",
      "2050# episode: 0, reward: -52.32590180780452, action: tensor([[3]], device='cuda:0')\n",
      "Loss: 40.45950469861405\n",
      "2100# episode: 0, reward: -51.62363799656123, action: tensor([[3]], device='cuda:0')\n",
      "Loss: 39.438884566657066\n",
      "2150# episode: 0, reward: -50.93132631298737, action: tensor([[3]], device='cuda:0')\n",
      "Loss: 41.89066421001011\n",
      "2200# episode: 0, reward: -53.03772242470448, action: tensor([[0]], device='cuda:0')\n",
      "Loss: 42.78858294791517\n",
      "2250# episode: 0, reward: -53.03772242470448, action: tensor([[0]], device='cuda:0')\n",
      "Loss: 45.616216857852294\n",
      "2300# episode: 0, reward: -44.94441010848846, action: tensor([[2]], device='cuda:0')\n",
      "Loss: 41.51318188885786\n",
      "2350# episode: 0, reward: -42.190046219457976, action: tensor([[1]], device='cuda:0')\n",
      "Loss: 45.08249156708784\n",
      "2400# episode: 0, reward: -51.66236541235796, action: tensor([[1]], device='cuda:0')\n",
      "Loss: 43.259701309835975\n",
      "2450# episode: 0, reward: -51.66236541235796, action: tensor([[1]], device='cuda:0')\n",
      "Loss: 39.59067357110045\n",
      "2500# episode: 0, reward: -45.34313619501854, action: tensor([[3]], device='cuda:0')\n",
      "Loss: 44.4195808935264\n",
      "2550# episode: 0, reward: -38.47076812334269, action: tensor([[3]], device='cuda:0')\n",
      "Loss: 44.083054235921495\n",
      "2600# episode: 0, reward: -49.57822102496216, action: tensor([[3]], device='cuda:0')\n",
      "Loss: 46.18765958524854\n",
      "2650# episode: 0, reward: -49.57822102496216, action: tensor([[3]], device='cuda:0')\n",
      "Loss: 40.712808822485236\n",
      "2700# episode: 0, reward: -52.3450093132096, action: tensor([[0]], device='cuda:0')\n",
      "Loss: 39.87950414170931\n",
      "2750# episode: 0, reward: -53.03772242470448, action: tensor([[0]], device='cuda:0')\n",
      "Loss: 46.276434108706695\n",
      "2800# episode: 0, reward: -53.03772242470448, action: tensor([[3]], device='cuda:0')\n",
      "Loss: 45.741570252644024\n",
      "2850# episode: 0, reward: -53.03772242470448, action: tensor([[3]], device='cuda:0')\n",
      "Loss: 41.7374093757102\n",
      "2900# episode: 0, reward: -45.48626166217664, action: tensor([[1]], device='cuda:0')\n",
      "Loss: 42.66021721932934\n",
      "2950# episode: 0, reward: -16.278820596099706, action: tensor([[2]], device='cuda:0')\n",
      "Loss: 45.34048625954672\n",
      "3000# episode: 0, reward: -30.01666203960727, action: tensor([[2]], device='cuda:0')\n",
      "Loss: 40.42719701449398\n",
      "3050# episode: 0, reward: -37.013511046643494, action: tensor([[2]], device='cuda:0')\n",
      "Loss: 45.86746065349719\n",
      "3100# episode: 0, reward: -37.013511046643494, action: tensor([[2]], device='cuda:0')\n",
      "Loss: 44.87540864551893\n",
      "3150# episode: 0, reward: -37.0, action: tensor([[2]], device='cuda:0')\n",
      "Loss: 40.31582685527291\n",
      "3200# episode: 0, reward: -37.0, action: tensor([[2]], device='cuda:0')\n",
      "Loss: 43.41761919741835\n",
      "3250# episode: 0, reward: -37.0, action: tensor([[2]], device='cuda:0')\n",
      "Loss: 45.870533504772766\n",
      "3300# episode: 0, reward: -37.05401462729781, action: tensor([[2]], device='cuda:0')\n",
      "Loss: 40.60087152133767\n",
      "3350# episode: 0, reward: -37.0, action: tensor([[2]], device='cuda:0')\n",
      "Loss: 43.70335194903777\n",
      "3400# episode: 0, reward: -37.013511046643494, action: tensor([[2]], device='cuda:0')\n",
      "Loss: 42.830559444397835\n",
      "3450# episode: 0, reward: -37.0, action: tensor([[2]], device='cuda:0')\n",
      "Loss: 40.190253405885436\n",
      "3500# episode: 0, reward: -43.266615305567875, action: tensor([[3]], device='cuda:0')\n",
      "Loss: 45.23887099455153\n",
      "3550# episode: 0, reward: -52.32590180780452, action: tensor([[3]], device='cuda:0')\n",
      "Loss: 39.39658913358947\n",
      "3600# episode: 0, reward: -52.32590180780452, action: tensor([[3]], device='cuda:0')\n",
      "Loss: 43.699993580608805\n",
      "3650# episode: 0, reward: -50.93132631298737, action: tensor([[3]], device='cuda:0')\n",
      "Loss: 41.607393897478566\n",
      "3700# episode: 0, reward: -37.0, action: tensor([[0]], device='cuda:0')\n",
      "Loss: 43.422528160384275\n",
      "3750# episode: 0, reward: -53.03772242470448, action: tensor([[0]], device='cuda:0')\n",
      "Loss: 42.54077565758646\n",
      "3800# episode: 0, reward: -53.03772242470448, action: tensor([[0]], device='cuda:0')\n",
      "Loss: 41.49765305348717\n",
      "3850# episode: 0, reward: -53.03772242470448, action: tensor([[0]], device='cuda:0')\n",
      "Loss: 43.972626564768646\n",
      "3900# episode: 0, reward: -52.3450093132096, action: tensor([[0]], device='cuda:0')\n",
      "Loss: 44.57418483741152\n",
      "3950# episode: 0, reward: -53.03772242470448, action: tensor([[2]], device='cuda:0')\n",
      "Loss: 43.436220239941434\n",
      "4000# episode: 0, reward: -52.3450093132096, action: tensor([[0]], device='cuda:0')\n",
      "Loss: 44.522236239489715\n",
      "4050# episode: 0, reward: -52.3450093132096, action: tensor([[0]], device='cuda:0')\n",
      "Loss: 44.93581278350195\n",
      "4100# episode: 0, reward: -51.66236541235796, action: tensor([[0]], device='cuda:0')\n",
      "Loss: 41.01404256704741\n",
      "4150# episode: 0, reward: -52.32590180780452, action: tensor([[3]], device='cuda:0')\n",
      "Loss: 47.85437632289322\n",
      "4200# episode: 0, reward: -51.62363799656123, action: tensor([[3]], device='cuda:0')\n",
      "Loss: 41.23215296833658\n",
      "4250# episode: 0, reward: -51.62363799656123, action: tensor([[3]], device='cuda:0')\n",
      "Loss: 44.71161193191873\n",
      "4300# episode: 0, reward: -52.32590180780452, action: tensor([[3]], device='cuda:0')\n",
      "Loss: 44.71968638563326\n",
      "4350# episode: 0, reward: -50.93132631298737, action: tensor([[3]], device='cuda:0')\n",
      "Loss: 42.11404796548251\n",
      "4400# episode: 0, reward: -50.24937810560445, action: tensor([[3]], device='cuda:0')\n",
      "Loss: 42.59225932591326\n",
      "4450# episode: 0, reward: -26.40075756488817, action: tensor([[1]], device='cuda:0')\n",
      "Loss: 42.1805031038479\n",
      "4500# episode: 0, reward: -42.720018726587654, action: tensor([[1]], device='cuda:0')\n",
      "Loss: 46.72373676569299\n",
      "4550# episode: 0, reward: -44.94441010848846, action: tensor([[1]], device='cuda:0')\n",
      "Loss: 42.90119687564172\n",
      "4600# episode: 0, reward: -43.9089968002003, action: tensor([[1]], device='cuda:0')\n",
      "Loss: 44.41513131155449\n",
      "4650# episode: 0, reward: -43.9089968002003, action: tensor([[1]], device='cuda:0')\n",
      "Loss: 41.29309915183999\n",
      "4700# episode: 0, reward: -43.9089968002003, action: tensor([[1]], device='cuda:0')\n",
      "Loss: 42.534682155851954\n",
      "4750# episode: 0, reward: -39.92492955535426, action: tensor([[2]], device='cuda:0')\n",
      "Loss: 42.84786215681697\n",
      "4800# episode: 0, reward: -48.27007354458868, action: tensor([[2]], device='cuda:0')\n",
      "Loss: 41.62223598577708\n",
      "4850# episode: 0, reward: -53.03772242470448, action: tensor([[2]], device='cuda:0')\n",
      "Loss: 42.11237830284238\n",
      "4900# episode: 0, reward: -52.32590180780452, action: tensor([[2]], device='cuda:0')\n",
      "Loss: 44.51112998838779\n",
      "4950# episode: 0, reward: -50.24937810560445, action: tensor([[2]], device='cuda:0')\n",
      "Loss: 43.339166790454705\n",
      "5000# episode: 0, reward: -50.24937810560445, action: tensor([[2]], device='cuda:0')\n",
      "Loss: 45.09008076210735\n",
      "5050# episode: 0, reward: -49.57822102496216, action: tensor([[2]], device='cuda:0')\n",
      "Loss: 43.17634590395734\n",
      "5100# episode: 0, reward: -48.91829923454004, action: tensor([[2]], device='cuda:0')\n",
      "Loss: 39.617184657682685\n",
      "5150# episode: 0, reward: -48.91829923454004, action: tensor([[2]], device='cuda:0')\n",
      "Loss: 45.234159111196874\n",
      "5200# episode: 0, reward: -48.91829923454004, action: tensor([[2]], device='cuda:0')\n",
      "Loss: 41.94880207453157\n",
      "5250# episode: 0, reward: -48.27007354458868, action: tensor([[2]], device='cuda:0')\n",
      "Loss: 41.82997614918143\n",
      "5300# episode: 0, reward: -51.62363799656123, action: tensor([[2]], device='cuda:0')\n",
      "Loss: 43.53886602497733\n",
      "5350# episode: 0, reward: -52.3450093132096, action: tensor([[1]], device='cuda:0')\n",
      "Loss: 46.12014438787686\n",
      "5400# episode: 0, reward: -52.3450093132096, action: tensor([[1]], device='cuda:0')\n",
      "Loss: 45.17892925517317\n",
      "5450# episode: 0, reward: -52.3450093132096, action: tensor([[1]], device='cuda:0')\n",
      "Loss: 46.80520146324165\n",
      "5500# episode: 0, reward: -53.03772242470448, action: tensor([[1]], device='cuda:0')\n",
      "Loss: 43.12600078142414\n",
      "5550# episode: 0, reward: -53.03772242470448, action: tensor([[1]], device='cuda:0')\n",
      "Loss: 45.964988929115535\n",
      "5600# episode: 0, reward: -51.66236541235796, action: tensor([[1]], device='cuda:0')\n",
      "Loss: 43.78847153999559\n",
      "5650# episode: 0, reward: -50.99019513592785, action: tensor([[1]], device='cuda:0')\n",
      "Loss: 44.097007531432155\n",
      "5700# episode: 0, reward: -50.32891812864648, action: tensor([[1]], device='cuda:0')\n",
      "Loss: 44.96394959356517\n",
      "5750# episode: 0, reward: -50.32891812864648, action: tensor([[1]], device='cuda:0')\n",
      "Loss: 46.01270819343314\n",
      "5800# episode: 0, reward: -49.678969393496885, action: tensor([[1]], device='cuda:0')\n",
      "Loss: 41.98170805190292\n",
      "5850# episode: 0, reward: -32.28002478313795, action: tensor([[3]], device='cuda:0')\n",
      "Loss: 44.64886018263409\n",
      "5900# episode: 0, reward: -47.634021455258214, action: tensor([[3]], device='cuda:0')\n",
      "Loss: 45.932220084912544\n",
      "5950# episode: 0, reward: -48.91829923454004, action: tensor([[3]], device='cuda:0')\n",
      "Loss: 45.05403012381478\n",
      "6000# episode: 0, reward: -47.634021455258214, action: tensor([[3]], device='cuda:0')\n",
      "Loss: 47.02168947071267\n",
      "6050# episode: 0, reward: -47.01063709417264, action: tensor([[3]], device='cuda:0')\n",
      "Loss: 44.02134450250463\n",
      "6100# episode: 0, reward: -47.01063709417264, action: tensor([[3]], device='cuda:0')\n",
      "Loss: 41.54602332449031\n",
      "6150# episode: 0, reward: -46.400431032480725, action: tensor([[3]], device='cuda:0')\n",
      "Loss: 44.432656083723145\n",
      "6200# episode: 0, reward: -36.6742416417845, action: tensor([[0]], device='cuda:0')\n",
      "Loss: 47.07374451616372\n",
      "6250# episode: 0, reward: -53.03772242470448, action: tensor([[0]], device='cuda:0')\n",
      "Loss: 46.088022227867214\n",
      "6300# episode: 0, reward: -53.03772242470448, action: tensor([[0]], device='cuda:0')\n",
      "Loss: 44.88631924720332\n",
      "6350# episode: 0, reward: -52.3450093132096, action: tensor([[0]], device='cuda:0')\n",
      "Loss: 45.20419521374926\n",
      "6400# episode: 0, reward: -52.3450093132096, action: tensor([[0]], device='cuda:0')\n",
      "Loss: 43.551375974694885\n",
      "6450# episode: 0, reward: -52.3450093132096, action: tensor([[0]], device='cuda:0')\n",
      "Loss: 44.435911883304925\n",
      "6500# episode: 0, reward: -50.99019513592785, action: tensor([[0]], device='cuda:0')\n",
      "Loss: 44.683464951291434\n",
      "6550# episode: 0, reward: -50.32891812864648, action: tensor([[0]], device='cuda:0')\n",
      "Loss: 44.54887685139627\n",
      "6600# episode: 0, reward: -50.32891812864648, action: tensor([[0]], device='cuda:0')\n",
      "Loss: 45.17883163638818\n",
      "6650# episode: 0, reward: -50.32891812864648, action: tensor([[0]], device='cuda:0')\n",
      "Loss: 42.98397553755348\n",
      "6700# episode: 0, reward: -50.99019513592785, action: tensor([[0]], device='cuda:0')\n",
      "Loss: 42.94859670373809\n",
      "6750# episode: 0, reward: -52.3450093132096, action: tensor([[0]], device='cuda:0')\n",
      "Loss: 44.082663344150134\n",
      "6800# episode: 0, reward: -53.03772242470448, action: tensor([[0]], device='cuda:0')\n",
      "Loss: 46.09461469438885\n",
      "6850# episode: 0, reward: -52.3450093132096, action: tensor([[0]], device='cuda:0')\n",
      "Loss: 47.419507935748655\n",
      "6900# episode: 0, reward: -52.3450093132096, action: tensor([[0]], device='cuda:0')\n",
      "Loss: 46.397935809028084\n",
      "6950# episode: 0, reward: -53.03772242470448, action: tensor([[0]], device='cuda:0')\n",
      "Loss: 45.203128579762165\n",
      "7000# episode: 0, reward: -53.03772242470448, action: tensor([[3]], device='cuda:0')\n",
      "Loss: 46.71075770919654\n",
      "7050# episode: 0, reward: -39.21734310225516, action: tensor([[2]], device='cuda:0')\n",
      "Loss: 45.433101828467514\n"
     ]
    }
   ],
   "source": [
    "#### import math\n",
    "\n",
    "num_episodes = 140\n",
    "for i_episode in range(num_episodes):\n",
    "    plt.plot(episode_durations)\n",
    "    plt.title(\"episode durations\")\n",
    "    plt.savefig(\"runtime_episodes.png\")\n",
    "    env = envs[i_episode%12]\n",
    "    # Initialize the environment and state\n",
    "    env.reset()\n",
    "    last_screen = get_screen()\n",
    "    current_screen = get_screen()\n",
    "    state = current_screen - last_screen\n",
    "    movement_power = 1\n",
    "    last_reward = None\n",
    "    plt.imshow(env.env_image)\n",
    "    plt.title('Start')\n",
    "    plt.show()\n",
    "    episode_rewards = []\n",
    "    for t in count():\n",
    "        if t > 10000:\n",
    "            episode_durations.append(t + 1)\n",
    "            print(f\"Episode #{i_episode} reached the maximum steps\")\n",
    "            break\n",
    "        # Select and perform an action\n",
    "        action = select_action(state)\n",
    "        if last_reward is not None:\n",
    "            if last_reward > -10:\n",
    "                movement_power = 1\n",
    "            else:\n",
    "                movement_power = math.ceil(abs(last_reward)/2)\n",
    "                if movement_power < 1:\n",
    "                    movement_power = 1\n",
    "        state_im, reward, done = env.step(action.item(),1)\n",
    "        log_loss = False\n",
    "        if t%50 == 0:\n",
    "            print(f\"{t}# episode: {i_episode}, reward: {last_reward}, action: {action}\")\n",
    "            log_loss = True    \n",
    "#             plt.imshow(env.env_image)\n",
    "#             plt.title(f\"reward: {reward}\")\n",
    "#             plt.show()\n",
    "        last_reward = reward\n",
    "        \n",
    "        episode_rewards.append(reward)\n",
    "        \n",
    "        reward = torch.tensor([reward], device=device)\n",
    "\n",
    "        # Observe new state\n",
    "        last_screen = current_screen\n",
    "        current_screen = get_screen()\n",
    "        if not done:\n",
    "            next_state = current_screen - last_screen\n",
    "        else:\n",
    "            next_state = None\n",
    "\n",
    "        # Store the transition in memory\n",
    "        memory.push(state, action, next_state, reward)\n",
    "\n",
    "        # Move to the next state\n",
    "        state = next_state\n",
    "\n",
    "        # Perform one step of the optimization (on the policy network)\n",
    "        optimize_model(log_loss)\n",
    "        if done:\n",
    "            plt.imshow(env.env_image)\n",
    "            plt.title(f\"Done!\")\n",
    "            plt.show()\n",
    "            print(f\"{t}################ episode: {i_episode}, Done!!!!!!!\")\n",
    "            episode_durations.append(t + 1)\n",
    "            # plot_durations()\n",
    "            break\n",
    "    # Update the target network, copying all weights and biases in DQN\n",
    "    if i_episode % TARGET_UPDATE == 0:\n",
    "        print(f\"########### target updated.\")\n",
    "        target_net.load_state_dict(policy_net.state_dict())\n",
    "        \n",
    "    torch.save({\n",
    "        'epoch': i_episode,\n",
    "        'model_state_dict': target_net.state_dict(),\n",
    "        'optimizer_state_dict': optimizer.state_dict(),\n",
    "        }, \"checkpoints/target_ckpt.pt\")\n",
    "    torch.save({\n",
    "        'epoch': i_episode,\n",
    "        'model_state_dict': policy_net.state_dict(),\n",
    "        'optimizer_state_dict': optimizer.state_dict(),\n",
    "        }, \"checkpoints/policy_ckpt.pt\")\n",
    "    print(f\"Checkpoint saved.\")\n",
    "\n",
    "print('Complete')\n",
    "\n",
    "# env.render()\n",
    "# env.close()\n",
    "# plt.ioff()\n",
    "# plt.show()"
   ]
  },
  {
   "cell_type": "markdown",
   "metadata": {
    "id": "Gtw4FG4rVrR4",
    "pycharm": {
     "name": "#%% md\n"
    }
   },
   "source": [
    "Here is the diagram that illustrates the overall resulting data flow.\n",
    "\n",
    ".. figure:: /_static/img/reinforcement_learning_diagram.jpg\n",
    "\n",
    "Actions are chosen either randomly or based on a policy, getting the next\n",
    "step sample from the gym environment. We record the results in the\n",
    "replay memory and also run optimization step on every iteration.\n",
    "Optimization picks a random batch from the replay memory to do training of the\n",
    "new policy. \"Older\" target_net is also used in optimization to compute the\n",
    "expected Q values; it is updated occasionally to keep it current.\n",
    "\n",
    "\n"
   ]
  },
  {
   "cell_type": "code",
   "execution_count": null,
   "metadata": {},
   "outputs": [],
   "source": [
    "plt.ioff()\n",
    "plt.show()"
   ]
  },
  {
   "cell_type": "code",
   "execution_count": null,
   "metadata": {},
   "outputs": [],
   "source": [
    "\n",
    "plt.plot(episode_durations)\n",
    "plt.title(\"episode durations\")\n",
    "plt.show()\n",
    "plt.savefig(\"50 episodes.png\")"
   ]
  },
  {
   "cell_type": "code",
   "execution_count": null,
   "metadata": {},
   "outputs": [],
   "source": [
    "episode_durations\n"
   ]
  },
  {
   "cell_type": "code",
   "execution_count": null,
   "metadata": {},
   "outputs": [],
   "source": [
    "env = envs[4]\n",
    "# Initialize the environment and state\n",
    "env.reset()\n",
    "last_screen = get_screen()\n",
    "current_screen = get_screen()\n",
    "state = current_screen - last_screen\n",
    "last_reward = None\n",
    "plt.imshow(env.env_image)\n",
    "plt.title('Start')\n",
    "plt.show()\n",
    "\n",
    "for t in count():\n",
    "    # Select and perform an action\n",
    "    action = select_action(state)\n",
    "    state_im, reward, done = env.step(action.item(),1)\n",
    "\n",
    "    if t%5 == 0:\n",
    "        print(f\"{t}, reward: {reward}, action: {action}\")\n",
    "        plt.imshow(env.env_image)\n",
    "        plt.title(f\"reward: {reward}\")\n",
    "        plt.show()\n",
    "    last_reward = reward\n",
    "\n",
    "\n",
    "#     reward = torch.tensor([reward], device=device)\n",
    "\n",
    "#     # Observe new state\n",
    "    last_screen = current_screen\n",
    "    current_screen = get_screen()\n",
    "    if not done:\n",
    "        next_state = current_screen - last_screen\n",
    "    else:\n",
    "        next_state = None\n",
    "\n",
    "    # Store the transition in memory\n",
    "#     memory.push(state, action, next_state, reward)\n",
    "\n",
    "    # Move to the next state\n",
    "    state = next_state\n",
    "\n",
    "    # Perform one step of the optimization (on the policy network)\n",
    "#     optimize_model()\n",
    "    if done:\n",
    "        plt.imshow(env.env_image)\n",
    "        plt.title(f\"Done!\")\n",
    "        plt.show()\n",
    "        print(f\"{t}################ step: {t}, Done!!!!!!!\")\n",
    "        episode_durations.append(t + 1)\n",
    "        # plot_durations()\n",
    "        break"
   ]
  },
  {
   "cell_type": "code",
   "execution_count": null,
   "metadata": {},
   "outputs": [],
   "source": []
  }
 ],
 "metadata": {
  "colab": {
   "name": "reinforcement_q_learning.ipynb",
   "provenance": []
  },
  "instance_type": "ml.g4dn.16xlarge",
  "kernelspec": {
   "display_name": "Python 3 (ipykernel)",
   "language": "python",
   "name": "python3"
  },
  "language_info": {
   "codemirror_mode": {
    "name": "ipython",
    "version": 3
   },
   "file_extension": ".py",
   "mimetype": "text/x-python",
   "name": "python",
   "nbconvert_exporter": "python",
   "pygments_lexer": "ipython3",
   "version": "3.7.10"
  }
 },
 "nbformat": 4,
 "nbformat_minor": 4
}
